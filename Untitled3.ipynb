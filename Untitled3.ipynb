{
  "nbformat": 4,
  "nbformat_minor": 0,
  "metadata": {
    "colab": {
      "name": "Untitled3.ipynb",
      "provenance": [],
      "mount_file_id": "11z7MGs5OS75qYArtCU7KT7aCcbN22xNp",
      "authorship_tag": "ABX9TyOW7W3Zi/t3eeD2ich8A4rs",
      "include_colab_link": true
    },
    "kernelspec": {
      "name": "python3",
      "display_name": "Python 3"
    },
    "language_info": {
      "name": "python"
    },
    "accelerator": "GPU"
  },
  "cells": [
    {
      "cell_type": "markdown",
      "metadata": {
        "id": "view-in-github",
        "colab_type": "text"
      },
      "source": [
        "<a href=\"https://colab.research.google.com/github/tingtingwen1995/-hash/blob/master/Untitled3.ipynb\" target=\"_parent\"><img src=\"https://colab.research.google.com/assets/colab-badge.svg\" alt=\"Open In Colab\"/></a>"
      ]
    },
    {
      "cell_type": "code",
      "metadata": {
        "colab": {
          "base_uri": "https://localhost:8080/"
        },
        "id": "RcbVsVzPcEHv",
        "outputId": "abbd5367-0ab9-46c0-e54c-c5d067b84be4"
      },
      "source": [
        "from google.colab import drive\n",
        "drive.mount('/content/drive')"
      ],
      "execution_count": 2,
      "outputs": [
        {
          "output_type": "stream",
          "name": "stdout",
          "text": [
            "Drive already mounted at /content/drive; to attempt to forcibly remount, call drive.mount(\"/content/drive\", force_remount=True).\n"
          ]
        }
      ]
    },
    {
      "cell_type": "code",
      "metadata": {
        "colab": {
          "base_uri": "https://localhost:8080/"
        },
        "id": "3Rg0K60Ob3eB",
        "outputId": "e19408f9-7c3a-4599-ccf7-7a98898a9983"
      },
      "source": [
        "import  os\n",
        "path = \"/content/drive/MyDrive/t2vec-master\"\n",
        "os.chdir(path)\n",
        "os.listdir(path)"
      ],
      "execution_count": 3,
      "outputs": [
        {
          "output_type": "execute_result",
          "data": {
            "text/plain": [
              "['constants.py',\n",
              " 'viz.py',\n",
              " 'README.md',\n",
              " 't2vec.py',\n",
              " 'test.py',\n",
              " 'training.log',\n",
              " 'models.py',\n",
              " 'evaluate.py',\n",
              " 'train.py',\n",
              " 'hyper-parameters.json',\n",
              " 'data_utils.py',\n",
              " 'experiment',\n",
              " 'preprocessing',\n",
              " 'data',\n",
              " 'constants.py.gdoc',\n",
              " 'Untitled0.ipynb',\n",
              " 'Untitled1.ipynb',\n",
              " 'pkg-install.jl']"
            ]
          },
          "metadata": {},
          "execution_count": 3
        }
      ]
    },
    {
      "cell_type": "code",
      "metadata": {
        "colab": {
          "base_uri": "https://localhost:8080/"
        },
        "id": "KbQCz_jechu8",
        "outputId": "34ab584a-bf5d-4e80-f4b9-0e6d15dd3678"
      },
      "source": [
        "!curl -sSL \"https://julialang-s3.julialang.org/bin/linux/x64/1.4/julia-1.4.0-linux-x86_64.tar.gz\" -o julia.tar.gz\n",
        "!tar -xzf julia.tar.gz -C /usr --strip-components 1\n",
        "!rm -rf julia.tar.gz*\n",
        "!julia -e 'using Pkg; pkg\" up; add IJulia ;  precompile\"'"
      ],
      "execution_count": 4,
      "outputs": [
        {
          "output_type": "stream",
          "name": "stdout",
          "text": [
            "    Cloning default registries into `~/.julia`\n",
            "    Cloning registry from \"https://github.com/JuliaRegistries/General.git\"\n",
            "\u001b[2K\u001b[?25h      Added registry `General` to `~/.julia/registries/General`\n",
            "   Updating registry at `~/.julia/registries/General`\n",
            "   Updating git-repo `https://github.com/JuliaRegistries/General.git`\n",
            "\u001b[?25l\u001b[2K\u001b[?25h   Updating `~/.julia/environments/v1.4/Project.toml`\n",
            " [no changes]\n",
            "   Updating `~/.julia/environments/v1.4/Manifest.toml`\n",
            " [no changes]\n",
            "  Resolving package versions...\n",
            "  Installed libsodium_jll ────── v1.0.19+0\n",
            "  Installed MozillaCACerts_jll ─ v2021.1.19+0\n",
            "  Installed NetworkOptions ───── v1.2.0\n",
            "  Installed Parsers ──────────── v2.1.2\n",
            "  Installed Preferences ──────── v1.2.2\n",
            "  Installed ZMQ ──────────────── v1.2.1\n",
            "  Installed IJulia ───────────── v1.23.2\n",
            "  Installed JLLWrappers ──────── v1.3.0\n",
            "  Installed Conda ────────────── v1.6.0\n",
            "  Installed LibCURL ──────────── v0.6.3\n",
            "  Installed VersionParsing ───── v1.2.1\n",
            "  Installed LibSSH2_jll ──────── v1.9.0+3\n",
            "  Installed ArgTools ─────────── v1.1.1\n",
            "  Installed LibCURL_jll ──────── v7.70.0+2\n",
            "  Installed ZeroMQ_jll ───────── v4.3.2+6\n",
            "  Installed Downloads ────────── v1.5.2\n",
            "  Installed nghttp2_jll ──────── v1.40.0+2\n",
            "  Installed Artifacts ────────── v1.3.0\n",
            "  Installed Zlib_jll ─────────── v1.2.11+18\n",
            "  Installed TOML ─────────────── v1.0.3\n",
            "  Installed SoftGlobalScope ──── v1.1.0\n",
            "  Installed MbedTLS_jll ──────── v2.16.8+1\n",
            "  Installed MbedTLS ──────────── v1.0.3\n",
            "  Installed JSON ─────────────── v0.21.2\n",
            "Downloading artifact: MozillaCACerts\n",
            "######################################################################## 100.0%\n",
            "\u001b[1A\u001b[2K\u001b[?25hDownloading artifact: libsodium\n",
            "######################################################################## 100.0%\n",
            "\u001b[1A\u001b[2K\u001b[?25hDownloading artifact: LibCURL\n",
            "######################################################################## 100.0%\n",
            "\u001b[1A\u001b[2K\u001b[?25hDownloading artifact: ZeroMQ\n",
            "######################################################################## 100.0%\n",
            "\u001b[1A\u001b[2K\u001b[?25hDownloading artifact: LibSSH2\n",
            "######################################################################## 100.0%\n",
            "\u001b[1A\u001b[2K\u001b[?25hDownloading artifact: nghttp2\n",
            "######################################################################## 100.0%\n",
            "\u001b[1A\u001b[2K\u001b[?25hDownloading artifact: Zlib\n",
            "######################################################################## 100.0%\n",
            "\u001b[1A\u001b[2K\u001b[?25hDownloading artifact: MbedTLS\n",
            "######################################################################## 100.0%\n",
            "\u001b[1A\u001b[2K\u001b[?25h   Updating `~/.julia/environments/v1.4/Project.toml`\n",
            "  [7073ff75] + IJulia v1.23.2\n",
            "   Updating `~/.julia/environments/v1.4/Manifest.toml`\n",
            "  [0dad84c5] + ArgTools v1.1.1\n",
            "  [56f22d72] + Artifacts v1.3.0\n",
            "  [8f4d0f93] + Conda v1.6.0\n",
            "  [f43a241f] + Downloads v1.5.2\n",
            "  [7073ff75] + IJulia v1.23.2\n",
            "  [692b3bcd] + JLLWrappers v1.3.0\n",
            "  [682c06a0] + JSON v0.21.2\n",
            "  [b27032c2] + LibCURL v0.6.3\n",
            "  [deac9b47] + LibCURL_jll v7.70.0+2\n",
            "  [29816b5a] + LibSSH2_jll v1.9.0+3\n",
            "  [739be429] + MbedTLS v1.0.3\n",
            "  [c8ffd9c3] + MbedTLS_jll v2.16.8+1\n",
            "  [14a3606d] + MozillaCACerts_jll v2021.1.19+0\n",
            "  [ca575930] + NetworkOptions v1.2.0\n",
            "  [69de0a69] + Parsers v2.1.2\n",
            "  [21216c6a] + Preferences v1.2.2\n",
            "  [b85f4697] + SoftGlobalScope v1.1.0\n",
            "  [fa267f1f] + TOML v1.0.3\n",
            "  [81def892] + VersionParsing v1.2.1\n",
            "  [c2297ded] + ZMQ v1.2.1\n",
            "  [8f1865be] + ZeroMQ_jll v4.3.2+6\n",
            "  [83775a58] + Zlib_jll v1.2.11+18\n",
            "  [a9144af2] + libsodium_jll v1.0.19+0\n",
            "  [8e850ede] + nghttp2_jll v1.40.0+2\n",
            "  [2a0f44e3] + Base64 \n",
            "  [ade2ca70] + Dates \n",
            "  [8ba89e20] + Distributed \n",
            "  [7b1f6079] + FileWatching \n",
            "  [b77e0a4c] + InteractiveUtils \n",
            "  [76f85450] + LibGit2 \n",
            "  [8f399da3] + Libdl \n",
            "  [56ddb016] + Logging \n",
            "  [d6f4376e] + Markdown \n",
            "  [a63ad114] + Mmap \n",
            "  [44cfe95a] + Pkg \n",
            "  [de0858da] + Printf \n",
            "  [3fa0cd96] + REPL \n",
            "  [9a3f8284] + Random \n",
            "  [ea8e919c] + SHA \n",
            "  [9e88b42a] + Serialization \n",
            "  [6462fe0b] + Sockets \n",
            "  [8dfed614] + Test \n",
            "  [cf7118a7] + UUIDs \n",
            "  [4ec0a83e] + Unicode \n",
            "   Building Conda ─→ `~/.julia/packages/Conda/1403Y/deps/build.log`\n",
            "   Building IJulia → `~/.julia/packages/IJulia/e8kqU/deps/build.log`\n"
          ]
        }
      ]
    },
    {
      "cell_type": "code",
      "metadata": {
        "colab": {
          "base_uri": "https://localhost:8080/"
        },
        "id": "IlVN8GTofEnl",
        "outputId": "dcafd5bd-8d50-4594-cdf1-71dfc3f6d213"
      },
      "source": [
        "!julia pkg-install.jl"
      ],
      "execution_count": 5,
      "outputs": [
        {
          "output_type": "stream",
          "name": "stdout",
          "text": [
            "   Updating registry at `~/.julia/registries/General`\n",
            "   Updating git-repo `https://github.com/JuliaRegistries/General.git`\n",
            "\u001b[?25l\u001b[2K\u001b[?25h  Resolving package versions...\n",
            "  Installed DataAPI ───────────── v1.9.0\n",
            "  Installed IrrationalConstants ─ v0.1.1\n",
            "  Installed SortingAlgorithms ─── v1.0.1\n",
            "  Installed Missings ──────────── v1.0.2\n",
            "  Installed ChangesOfVariables ── v0.1.1\n",
            "  Installed OrderedCollections ── v1.4.1\n",
            "  Installed LogExpFunctions ───── v0.3.5\n",
            "  Installed StatsBase ─────────── v0.33.13\n",
            "  Installed Compat ────────────── v3.40.0\n",
            "  Installed InverseFunctions ──── v0.1.2\n",
            "  Installed StatsAPI ──────────── v1.1.0\n",
            "  Installed DocStringExtensions ─ v0.8.6\n",
            "  Installed ChainRulesCore ────── v1.11.1\n",
            "  Installed DataStructures ────── v0.18.10\n",
            "   Updating `~/.julia/environments/v1.4/Project.toml`\n",
            "  [2913bbd2] + StatsBase v0.33.13\n",
            "   Updating `~/.julia/environments/v1.4/Manifest.toml`\n",
            "  [d360d2e6] + ChainRulesCore v1.11.1\n",
            "  [9e997f8a] + ChangesOfVariables v0.1.1\n",
            "  [34da2185] + Compat v3.40.0\n",
            "  [9a962f9c] + DataAPI v1.9.0\n",
            "  [864edb3b] + DataStructures v0.18.10\n",
            "  [ffbed154] + DocStringExtensions v0.8.6\n",
            "  [3587e190] + InverseFunctions v0.1.2\n",
            "  [92d709cd] + IrrationalConstants v0.1.1\n",
            "  [2ab3a3ac] + LogExpFunctions v0.3.5\n",
            "  [e1d29d7a] + Missings v1.0.2\n",
            "  [bac558e1] + OrderedCollections v1.4.1\n",
            "  [a2af1166] + SortingAlgorithms v1.0.1\n",
            "  [82ae8749] + StatsAPI v1.1.0\n",
            "  [2913bbd2] + StatsBase v0.33.13\n",
            "  [8bb1440f] + DelimitedFiles \n",
            "  [37e2e46d] + LinearAlgebra \n",
            "  [1a1011a3] + SharedArrays \n",
            "  [2f01184e] + SparseArrays \n",
            "  [10745b16] + Statistics \n",
            "  Resolving package versions...\n",
            "  Installed Zstd_jll ──── v1.4.8+0\n",
            "  Installed OpenSSL_jll ─ v1.1.1+6\n",
            "  Installed Requires ──── v1.1.3\n",
            "  Installed Blosc_jll ─── v1.21.0+0\n",
            "  Installed HDF5_jll ──── v1.12.0+1\n",
            "  Installed Lz4_jll ───── v1.9.2+2\n",
            "  Installed Blosc ─────── v0.7.1\n",
            "  Installed HDF5 ──────── v0.15.7\n",
            "Downloading artifact: Zstd\n",
            "######################################################################## 100.0%\n",
            "\u001b[1A\u001b[2K\u001b[?25hDownloading artifact: OpenSSL\n",
            "######################################################################## 100.0%\n",
            "\u001b[1A\u001b[2K\u001b[?25hDownloading artifact: Blosc\n",
            "######################################################################## 100.0%\n",
            "\u001b[1A\u001b[2K\u001b[?25hDownloading artifact: Lz4\n",
            "######################################################################## 100.0%\n",
            "\u001b[1A\u001b[2K\u001b[?25hDownloading artifact: HDF5\n",
            "######################################################################## 100.0%\n",
            "\u001b[1A\u001b[2K\u001b[?25h   Updating `~/.julia/environments/v1.4/Project.toml`\n",
            "  [f67ccb44] + HDF5 v0.15.7\n",
            "   Updating `~/.julia/environments/v1.4/Manifest.toml`\n",
            "  [a74b3585] + Blosc v0.7.1\n",
            "  [0b7ba130] + Blosc_jll v1.21.0+0\n",
            "  [f67ccb44] + HDF5 v0.15.7\n",
            "  [0234f1f7] + HDF5_jll v1.12.0+1\n",
            "  [5ced341a] + Lz4_jll v1.9.2+2\n",
            "  [458c3c95] + OpenSSL_jll v1.1.1+6\n",
            "  [ae029012] + Requires v1.1.3\n",
            "  [3161d3a3] + Zstd_jll v1.4.8+0\n",
            "   Building HDF5 → `~/.julia/packages/HDF5/pIJra/deps/build.log`\n",
            "  Resolving package versions...\n",
            "   Updating `~/.julia/environments/v1.4/Project.toml`\n",
            "  [864edb3b] + DataStructures v0.18.10\n",
            "   Updating `~/.julia/environments/v1.4/Manifest.toml`\n",
            " [no changes]\n",
            "  Resolving package versions...\n",
            "  Installed NearestNeighbors ─ v0.4.9\n",
            "  Installed StaticArrays ───── v1.2.13\n",
            "  Installed Distances ──────── v0.10.7\n",
            "   Updating `~/.julia/environments/v1.4/Project.toml`\n",
            "  [b8a86587] + NearestNeighbors v0.4.9\n",
            "   Updating `~/.julia/environments/v1.4/Manifest.toml`\n",
            "  [b4f34e82] + Distances v0.10.7\n",
            "  [b8a86587] + NearestNeighbors v0.4.9\n",
            "  [90137ffa] + StaticArrays v1.2.13\n",
            "  Resolving package versions...\n",
            "   Updating `~/.julia/environments/v1.4/Project.toml`\n",
            "  [682c06a0] + JSON v0.21.2\n",
            "   Updating `~/.julia/environments/v1.4/Manifest.toml`\n",
            " [no changes]\n",
            "  Resolving package versions...\n",
            "   Updating `~/.julia/environments/v1.4/Project.toml`\n",
            "  [9e88b42a] + Serialization \n",
            "   Updating `~/.julia/environments/v1.4/Manifest.toml`\n",
            " [no changes]\n",
            "  Resolving package versions...\n",
            "  Installed CodecZlib ─────────────────── v0.7.0\n",
            "  Installed PooledArrays ──────────────── v1.4.0\n",
            "  Installed DataValueInterfaces ───────── v1.0.0\n",
            "  Installed IteratorInterfaceExtensions ─ v1.0.0\n",
            "  Installed Tables ────────────────────── v1.6.0\n",
            "  Installed WeakRefStrings ────────────── v1.4.1\n",
            "  Installed TranscodingStreams ────────── v0.9.6\n",
            "  Installed InlineStrings ─────────────── v1.0.1\n",
            "  Installed TableTraits ───────────────── v1.0.1\n",
            "  Installed FilePathsBase ─────────────── v0.9.17\n",
            "  Installed SentinelArrays ────────────── v1.3.8\n",
            "  Installed CSV ───────────────────────── v0.9.11\n",
            "   Updating `~/.julia/environments/v1.4/Project.toml`\n",
            "  [336ed68f] + CSV v0.9.11\n",
            "   Updating `~/.julia/environments/v1.4/Manifest.toml`\n",
            "  [336ed68f] + CSV v0.9.11\n",
            "  [944b1d66] + CodecZlib v0.7.0\n",
            "  [e2d170a0] + DataValueInterfaces v1.0.0\n",
            "  [48062228] + FilePathsBase v0.9.17\n",
            "  [842dd82b] + InlineStrings v1.0.1\n",
            "  [82899510] + IteratorInterfaceExtensions v1.0.0\n",
            "  [2dfb63ee] + PooledArrays v1.4.0\n",
            "  [91c51154] + SentinelArrays v1.3.8\n",
            "  [3783bdb8] + TableTraits v1.0.1\n",
            "  [bd369af6] + Tables v1.6.0\n",
            "  [3bb67fe8] + TranscodingStreams v0.9.6\n",
            "  [ea10d353] + WeakRefStrings v1.4.1\n",
            "  [9fa8497b] + Future \n",
            "  Resolving package versions...\n",
            "  Installed Crayons ───────── v4.0.4\n",
            "  Installed InvertedIndices ─ v1.1.0\n",
            "  Installed Formatting ────── v0.4.2\n",
            "  Installed DataFrames ────── v1.2.2\n",
            "  Installed PrettyTables ──── v1.2.3\n",
            "  Installed Reexport ──────── v1.2.2\n",
            "   Updating `~/.julia/environments/v1.4/Project.toml`\n",
            "  [a93c6f00] + DataFrames v1.2.2\n",
            "   Updating `~/.julia/environments/v1.4/Manifest.toml`\n",
            "  [a8cc5b0e] + Crayons v4.0.4\n",
            "  [a93c6f00] + DataFrames v1.2.2\n",
            "  [59287772] + Formatting v0.4.2\n",
            "  [41ab1584] + InvertedIndices v1.1.0\n",
            "  [08abe8d2] + PrettyTables v1.2.3\n",
            "  [189a3867] + Reexport v1.2.2\n",
            "  Resolving package versions...\n",
            "   Updating `~/.julia/environments/v1.4/Project.toml`\n",
            "  [b4f34e82] + Distances v0.10.7\n",
            "   Updating `~/.julia/environments/v1.4/Manifest.toml`\n",
            " [no changes]\n",
            "  Resolving package versions...\n",
            "   Updating `~/.julia/environments/v1.4/Project.toml`\n",
            " [no changes]\n",
            "   Updating `~/.julia/environments/v1.4/Manifest.toml`\n",
            " [no changes]\n",
            "  Resolving package versions...\n",
            "  Installed TextWrap ─ v1.0.1\n",
            "  Installed ArgParse ─ v1.1.4\n",
            "   Updating `~/.julia/environments/v1.4/Project.toml`\n",
            "  [c7e460c6] + ArgParse v1.1.4\n",
            "   Updating `~/.julia/environments/v1.4/Manifest.toml`\n",
            "  [c7e460c6] + ArgParse v1.1.4\n",
            "  [b718987f] + TextWrap v1.0.1\n"
          ]
        }
      ]
    },
    {
      "cell_type": "code",
      "metadata": {
        "colab": {
          "base_uri": "https://localhost:8080/"
        },
        "id": "yyJuv3JYfRDC",
        "outputId": "3fffe3d5-116f-44da-ec5d-082194795075"
      },
      "source": [
        "%cd preprocessing"
      ],
      "execution_count": 6,
      "outputs": [
        {
          "output_type": "stream",
          "name": "stdout",
          "text": [
            "/content/drive/MyDrive/t2vec-master/preprocessing\n"
          ]
        }
      ]
    },
    {
      "cell_type": "code",
      "metadata": {
        "colab": {
          "base_uri": "https://localhost:8080/"
        },
        "id": "klCuByUmfWHw",
        "outputId": "13c5ae86-12d1-45c0-ee22-59070b002522"
      },
      "source": [
        "!julia porto2h5.jl"
      ],
      "execution_count": 1,
      "outputs": [
        {
          "output_type": "stream",
          "name": "stdout",
          "text": [
            "/bin/bash: julia: command not found\n"
          ]
        }
      ]
    }
  ]
}